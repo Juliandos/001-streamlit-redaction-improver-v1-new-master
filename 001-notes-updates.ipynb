{
 "cells": [
  {
   "cell_type": "markdown",
   "metadata": {},
   "source": [
    "# Streamlit Text Redaction App - Modern Version\n",
    "\n",
    "A modernized version of the Streamlit text redaction application using the latest versions of Python 3.13.3, Poetry 2.1.4, Streamlit 1.49+, and LangChain 0.3+.\n",
    "\n",
    "## Features\n",
    "\n",
    "- Rewrite text in different tones (Formal/Informal)\n",
    "- Convert text to different English dialects (American/British)\n",
    "- Clean, simple Streamlit interface\n",
    "- Modern dependency stack for better performance and security\n",
    "\n",
    "## Requirements\n",
    "\n",
    "- Python 3.13.3 or higher\n",
    "- Poetry 2.1.4 or higher\n",
    "\n",
    "## Installation\n",
    "\n",
    "1. Navigate to the project directory:\n",
    "```bash\n",
    "cd new-version\n",
    "```\n",
    "\n",
    "2. Install dependencies:\n",
    "```bash\n",
    "poetry install\n",
    "```\n",
    "\n",
    "**Note: See the previous lessons about how to install Poetry 2.1.4. You may need to write \"poetry-2.1.4\" instead of \"poetry\"**\n",
    "\n",
    "## Usage\n",
    "\n",
    "1. Start the Streamlit application:\n",
    "```bash\n",
    "poetry run streamlit run main.py\n",
    "```\n",
    "\n",
    "2. Open your browser to the displayed URL (typically http://localhost:8501)\n",
    "\n",
    "3. Enter your OpenAI API key when prompted\n",
    "\n",
    "4. Input your text and select your preferred tone and dialect\n",
    "\n",
    "5. Get your improved, redacted text!\n",
    "\n",
    "## Migration from Old Version\n",
    "\n",
    "This version maintains identical functionality to the old version while using modern dependencies. See `migration_documentation.md` for detailed information about the changes made during migration.\n",
    "\n",
    "## Key Modernizations\n",
    "\n",
    "- **Python 3.13.3**: Latest Python version with performance improvements\n",
    "- **Poetry 2.1.4**: Modern dependency management with PEP 621 compliance\n",
    "- **LangChain 0.3+**: Updated to use modular `langchain-core` architecture\n",
    "- **Streamlit 1.49+**: Latest Streamlit features available\n"
   ]
  },
  {
   "cell_type": "markdown",
   "metadata": {},
   "source": [
    "# Update Notes: Streamlit Text Redaction App\n",
    "* Streamlit from 1.37.0 to 1.49+ (August 2025)\n",
    "* LangChain from 0.2.11 to 0.3+ (August 2025)\n",
    "* Poetry from 1.8.2 to 2.1.4 (August 2025)\n",
    "* Python from 3.11.4 to 3.13.3 (April 2025)"
   ]
  },
  {
   "cell_type": "markdown",
   "metadata": {},
   "source": [
    "## Objective\n",
    "Migrate the simple Streamlit text redaction application from older versions to the latest modern ones, maintaining the **same functionality** but with updated dependencies."
   ]
  },
  {
   "cell_type": "markdown",
   "metadata": {},
   "source": [
    "## Version comparison\n",
    "\n",
    "| Component | Old Version | New Version | Main Change |\n",
    "|-----------|-------------|-------------|-------------|\n",
    "| Python | 3.11.4 | 3.13.3 | Performance improvements |\n",
    "| Poetry | 1.8.2 | 2.1.4 | PEP 621, package-mode |\n",
    "| Streamlit | 1.37.0 | 1.49+ | New features |\n",
    "| LangChain | 0.2.11 | langchain-core 0.3+ | Modular architecture |\n",
    "| LangChain-OpenAI | 0.1.19 | 0.2+ | Separate package |"
   ]
  },
  {
   "cell_type": "markdown",
   "metadata": {},
   "source": [
    "## Configuration: pyproject.toml\n",
    "\n",
    "### Old version (Poetry 1.x)\n",
    "```toml\n",
    "[tool.poetry]\n",
    "name = \"001-streamlit-redaction-improver\"\n",
    "version = \"0.1.0\"\n",
    "description = \"\"\n",
    "authors = [\"julio colomer <info@aiaccelera.com>\"]\n",
    "readme = \"README.md\"\n",
    "\n",
    "[tool.poetry.dependencies]\n",
    "python = \"3.11.4\"\n",
    "streamlit = \"^1.37.0\"\n",
    "langchain = \"^0.2.11\"\n",
    "langchain-openai = \"^0.1.19\"\n",
    "\n",
    "[build-system]\n",
    "requires = [\"poetry-core\"]\n",
    "build-backend = \"poetry.core.masonry.api\"\n",
    "```"
   ]
  },
  {
   "cell_type": "markdown",
   "metadata": {},
   "source": [
    "### New version (Poetry 2.x with PEP 621)\n",
    "```toml\n",
    "[project]\n",
    "name = \"streamlit-redaction-improver-modern\"\n",
    "version = \"0.2.0\"\n",
    "description = \"Modern version of streamlit text redaction app with updated dependencies\"\n",
    "authors = [\n",
    "    {name = \"julio colomer\", email = \"info@aiaccelera.com\"}\n",
    "]\n",
    "readme = \"README.md\"\n",
    "requires-python = \">=3.13.3\"\n",
    "dependencies = [\n",
    "    \"streamlit>=1.49.0\",\n",
    "    \"langchain-core>=0.3.0\",\n",
    "    \"langchain-openai>=0.2.0\",\n",
    "    \"python-dotenv>=1.0.0\"\n",
    "]\n",
    "\n",
    "[project.optional-dependencies]\n",
    "dev = [\n",
    "    \"jupyter>=1.1.1\",\n",
    "    \"ipykernel>=6.29.0\",\n",
    "    \"black>=24.0.0\",\n",
    "    \"ruff>=0.8.0\"\n",
    "]\n",
    "\n",
    "[build-system]\n",
    "requires = [\"poetry-core>=1.0.0\"]\n",
    "build-backend = \"poetry.core.masonry.api\"\n",
    "\n",
    "[tool.poetry]\n",
    "package-mode = false\n",
    "```"
   ]
  },
  {
   "cell_type": "markdown",
   "metadata": {},
   "source": [
    "## Key configuration changes\n",
    "1. **`[project]` section**: Replaces `[tool.poetry]` (PEP 621 standard)\n",
    "2. **`package-mode = false`**: Important for simple applications in Poetry 2.x\n",
    "3. **`langchain-core`**: Replaces the monolithic `langchain` package\n",
    "4. **Optional dependencies**: Separated in `[project.optional-dependencies]`"
   ]
  },
  {
   "cell_type": "markdown",
   "metadata": {},
   "source": [
    "## Code changes: main.py\n",
    "\n",
    "Only **4 lines** change in the code:"
   ]
  },
  {
   "cell_type": "markdown",
   "metadata": {},
   "source": [
    "### 1. PromptTemplate import\n",
    "```python\n",
    "# Old version\n",
    "from langchain import PromptTemplate\n",
    "\n",
    "# New version\n",
    "from langchain_core.prompts import PromptTemplate\n",
    "```"
   ]
  },
  {
   "cell_type": "markdown",
   "metadata": {},
   "source": [
    "### 2. PromptTemplate initialization\n",
    "```python\n",
    "# Old version\n",
    "prompt = PromptTemplate(\n",
    "    input_variables=[\"tone\", \"dialect\", \"draft\"],\n",
    "    template=template,\n",
    ")\n",
    "\n",
    "# New version\n",
    "prompt = PromptTemplate.from_template(template)\n",
    "```"
   ]
  },
  {
   "cell_type": "markdown",
   "metadata": {},
   "source": [
    "### 3. LLM call\n",
    "```python\n",
    "# Old version\n",
    "prompt_with_draft = prompt.format(\n",
    "    tone=option_tone, \n",
    "    dialect=option_dialect, \n",
    "    draft=draft_input\n",
    ")\n",
    "improved_redaction = llm(prompt_with_draft)\n",
    "\n",
    "# New version\n",
    "formatted_prompt = prompt.format(\n",
    "    tone=option_tone, \n",
    "    dialect=option_dialect, \n",
    "    draft=draft_input\n",
    ")\n",
    "improved_redaction = llm.invoke(formatted_prompt)\n",
    "```"
   ]
  },
  {
   "cell_type": "markdown",
   "metadata": {},
   "source": [
    "## Why these changes\n",
    "* **Modular architecture**: LangChain was split into separate packages\n",
    "* **`from_template()`**: Automatically detects template variables\n",
    "* **`.invoke()`**: Modern LangChain standard method (replaces direct call)\n",
    "* **Future compatibility**: Following current best practices"
   ]
  },
  {
   "cell_type": "markdown",
   "metadata": {},
   "source": [
    "## Important issue: Poetry 2.x \"package mode\"\n",
    "\n",
    "Poetry 2.x by default expects your project to be an installable **Python package**. For simple applications like ours, this causes errors:\n",
    "\n",
    "```\n",
    "The Poetry configuration is invalid:\n",
    "  - packages[0] : Unable to find package at <your-package-name>\n",
    "```\n",
    "\n",
    "### Solution\n",
    "Add `package-mode = false` in the `[tool.poetry]` section:\n",
    "\n",
    "```toml\n",
    "[tool.poetry]\n",
    "package-mode = false\n",
    "```"
   ]
  },
  {
   "cell_type": "markdown",
   "metadata": {},
   "source": [
    "## Streamlit: No changes needed\n",
    "The Streamlit code **doesn't change at all**. Streamlit maintains excellent backward compatibility:\n",
    "* `st.text_input()`, `st.selectbox()`, `st.text_area()` work the same\n",
    "* The user interface is identical\n",
    "* Only versions are updated to get performance and security improvements"
   ]
  },
  {
   "cell_type": "markdown",
   "metadata": {},
   "source": [
    "## Migration steps\n",
    "\n",
    "#### 1. Create the new pyproject.toml\n",
    "```bash\n",
    "# In the new-version/ folder\n",
    "# Create pyproject.toml with the new configuration\n",
    "```\n",
    "\n",
    "#### 2. Update main.py\n",
    "```bash\n",
    "# Change only the 4 lines mentioned above\n",
    "```\n",
    "\n",
    "#### 3. Install dependencies\n",
    "```bash\n",
    "cd new-version\n",
    "poetry-2.1.4 install\n",
    "```\n",
    "\n",
    "#### 4. Run the application\n",
    "```bash\n",
    "poetry-2.1.4 run streamlit run main.py\n",
    "```"
   ]
  },
  {
   "cell_type": "markdown",
   "metadata": {},
   "source": [
    "## Common problems and solutions\n",
    "\n",
    "#### Error: `ImportError: cannot import name 'PromptTemplate' from 'langchain'`\n",
    "**Solution**: Change import to `from langchain_core.prompts import PromptTemplate`\n",
    "\n",
    "#### Error: `AttributeError: 'OpenAI' object is not callable`\n",
    "**Solution**: Use `llm.invoke(prompt)` instead of `llm(prompt)`\n",
    "\n",
    "#### Error: `Unable to find package at <your-package-name>`\n",
    "**Solution**: Add `package-mode = false` in `[tool.poetry]`\n",
    "\n",
    "#### Poetry doesn't find dependencies\n",
    "**Solution**: Run `poetry-2.1.4 lock --no-update` then `poetry-2.1.4 install`"
   ]
  },
  {
   "cell_type": "markdown",
   "metadata": {},
   "source": [
    "## Final result\n",
    "\n",
    "* **Functionality**: Identical to the original version\n",
    "* **Interface**: Exactly the same\n",
    "* **Code changed**: Only 4 lines\n",
    "* **Benefits**: Modern dependencies, better performance, future compatibility\n",
    "* **Migration time**: ~15 minutes"
   ]
  },
  {
   "cell_type": "markdown",
   "metadata": {},
   "source": [
    "## Verification\n",
    "To confirm the migration works:\n",
    "\n",
    "```bash\n",
    "cd new-version\n",
    "poetry-2.1.4 run python --version  # Should show 3.13.3\n",
    "poetry-2.1.4 run streamlit run main.py\n",
    "```\n",
    "\n",
    "The application should work exactly like the previous version."
   ]
  }
 ],
 "metadata": {
  "kernelspec": {
   "display_name": "Python 3 (ipykernel)",
   "language": "python",
   "name": "python3"
  },
  "language_info": {
   "codemirror_mode": {
    "name": "ipython",
    "version": 3
   },
   "file_extension": ".py",
   "mimetype": "text/x-python",
   "name": "python",
   "nbconvert_exporter": "python",
   "pygments_lexer": "ipython3",
   "version": "3.13.3"
  }
 },
 "nbformat": 4,
 "nbformat_minor": 4
}
